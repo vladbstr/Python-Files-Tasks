{
  "nbformat": 4,
  "nbformat_minor": 0,
  "metadata": {
    "colab": {
      "name": "Untitled0.ipynb",
      "provenance": [],
      "collapsed_sections": [],
      "authorship_tag": "ABX9TyM5RCIXERp0k0d51Lw0MYpZ",
      "include_colab_link": true
    },
    "kernelspec": {
      "name": "python3",
      "display_name": "Python 3"
    },
    "language_info": {
      "name": "python"
    }
  },
  "cells": [
    {
      "cell_type": "markdown",
      "metadata": {
        "id": "view-in-github",
        "colab_type": "text"
      },
      "source": [
        "<a href=\"https://colab.research.google.com/github/vladbstr/Python-Files-Tasks/blob/main/lab2.ipynb\" target=\"_parent\"><img src=\"https://colab.research.google.com/assets/colab-badge.svg\" alt=\"Open In Colab\"/></a>"
      ]
    },
    {
      "cell_type": "code",
      "execution_count": 3,
      "metadata": {
        "id": "nd3_1SMJl8hK"
      },
      "outputs": [],
      "source": [
        "import numpy as np\n",
        "import matplotlib.pyplot as plt\n"
      ]
    },
    {
      "cell_type": "markdown",
      "source": [
        "**3.3 Exercițiul 3 – semnalul impuls unitar**\n",
        "\n",
        "<font color='red'>Să se genereze în Matlab semnalul impuls unitar (δ[n]), pentru n=-10,-9…-\n",
        "1,0,1…9,10. Momentul n=0 corespunde celui de-al 11-lea element al vectorului, al cărui\n",
        "valoare va fi 1.</font>\n",
        "<br>\n",
        "<font color='red'>Să se genereze în Matlab semnalul impuls unitate întarziat cu n0=1 (δ[n- n0]),\n",
        "pentru n=-10,-9…-1,0,1…9,10.</font>\n",
        "\n",
        "Să se genereze în Matlab semnalul impuls unitate întarziat cu n0=1 (δ[n- n0]),\n",
        "pentru n=-10,-9…-1,0,1…9,10.\n",
        "\n",
        "**Observație!**\n",
        "\n",
        "Momentul n0=1 corespunde celui de-al 12-lea element al vectorului."
      ],
      "metadata": {
        "id": "px342W0-xaMQ"
      }
    },
    {
      "cell_type": "code",
      "source": [
        "n = np.arange(-10,11)\n",
        "l=np.size(n)\n",
        "imp = np.zeros(l)\n",
        "ind = np.where(n==0)\n",
        "imp[ind] = 1\n",
        "plt.subplot(211)\n",
        "plt.stem(n,imp);plt.title('delta[n]')\n",
        "plt.xlabel('Index')\n",
        "plt.ylabel('Amplitudine')\n"
      ],
      "metadata": {
        "colab": {
          "base_uri": "https://localhost:8080/",
          "height": 249
        },
        "id": "z87KdUQao3cb",
        "outputId": "1f4fba23-d240-46c9-e315-064a57867458"
      },
      "execution_count": 43,
      "outputs": [
        {
          "output_type": "stream",
          "name": "stderr",
          "text": [
            "/usr/local/lib/python3.7/dist-packages/ipykernel_launcher.py:7: UserWarning: In Matplotlib 3.3 individual lines on a stem plot will be added as a LineCollection instead of individual lines. This significantly improves the performance of a stem plot. To remove this warning and switch to the new behaviour, set the \"use_line_collection\" keyword argument to True.\n",
            "  import sys\n"
          ]
        },
        {
          "output_type": "execute_result",
          "data": {
            "text/plain": [
              "Text(0, 0.5, 'Amplitudine')"
            ]
          },
          "metadata": {},
          "execution_count": 43
        },
        {
          "output_type": "display_data",
          "data": {
            "text/plain": [
              "<Figure size 432x288 with 1 Axes>"
            ],
            "image/png": "[encoded data removed]"
          },
          "metadata": {
            "needs_background": "light"
          }
        }
      ]
    },
    {
      "cell_type": "code",
      "source": [
        "n = np.arange(-10,11)\n",
        "l=np.size(n)\n",
        "imp2 = np.zeros(l)\n",
        "ind2 = np.where(n==1)\n",
        "imp2[ind2] = 1\n",
        "plt.subplot(212)\n",
        "plt.stem(n,imp2);plt.title('delta[n-1]')\n",
        "plt.xlabel('Index')\n",
        "plt.ylabel('Amplitudine')\n",
        "plt.grid(True)"
      ],
      "metadata": {
        "colab": {
          "base_uri": "https://localhost:8080/",
          "height": 232
        },
        "id": "I8aFdaPVzmBk",
        "outputId": "0dcf929d-838f-430d-9f81-8235b7865d19"
      },
      "execution_count": 42,
      "outputs": [
        {
          "output_type": "stream",
          "name": "stderr",
          "text": [
            "/usr/local/lib/python3.7/dist-packages/ipykernel_launcher.py:7: UserWarning: In Matplotlib 3.3 individual lines on a stem plot will be added as a LineCollection instead of individual lines. This significantly improves the performance of a stem plot. To remove this warning and switch to the new behaviour, set the \"use_line_collection\" keyword argument to True.\n",
            "  import sys\n"
          ]
        },
        {
          "output_type": "display_data",
          "data": {
            "text/plain": [
              "<Figure size 432x288 with 1 Axes>"
            ],
            "image/png": "[encoded data removed]"
          },
          "metadata": {
            "needs_background": "light"
          }
        }
      ]
    },
    {
      "cell_type": "markdown",
      "source": [
        "**3.4 Exercițiul 4 - semnalul treaptă unitate**\n",
        "\n",
        "<font color='red'>Să se genereze în Matlab semnalul treaptă unitate (u[n]), pentru n=-5,-4…-\n",
        "1,0,1…9,10.</font>\n",
        "\n",
        "**Observație!**\n",
        "\n",
        "Secvențele se vor obține prin concatenarea unor vectori cu elemente nule și a unor\n",
        "vectori cu elemente diferite de zero, în funcție de momentul de timp în care apare primul\n",
        "eșalon nenul.\n",
        "\n",
        "<font color='red'>Să se genereze în Matlab semnalul treaptă unitate întârziat (u[n-2]), pentru n=-5,-4…-\n",
        "1,0,1…9,10.</font>\n",
        "\n",
        "**Observație!**\n",
        "\n",
        "Momentul de timp 𝑛=2 corespunde celui de-al 8-lea element al vectorului."
      ],
      "metadata": {
        "id": "NM_yJ3tYz8ja"
      }
    },
    {
      "cell_type": "code",
      "source": [
        "n = np.arange(-5,11)\n",
        "l=np.size(n)\n",
        "imp = np.zeros(l)\n",
        "ind = np.where(n>-1)\n",
        "imp[ind] = 1\n",
        "plt.stem(n,imp);plt.title('delta[n]')\n",
        "plt.xlabel('Index')\n",
        "plt.ylabel('Amplitudine')"
      ],
      "metadata": {
        "colab": {
          "base_uri": "https://localhost:8080/",
          "height": 367
        },
        "id": "CNXZtaeR0XIK",
        "outputId": "01835ddd-bbc4-464d-b87d-31852a0864a1"
      },
      "execution_count": 73,
      "outputs": [
        {
          "output_type": "stream",
          "name": "stderr",
          "text": [
            "/usr/local/lib/python3.7/dist-packages/ipykernel_launcher.py:6: UserWarning: In Matplotlib 3.3 individual lines on a stem plot will be added as a LineCollection instead of individual lines. This significantly improves the performance of a stem plot. To remove this warning and switch to the new behaviour, set the \"use_line_collection\" keyword argument to True.\n",
            "  \n"
          ]
        },
        {
          "output_type": "execute_result",
          "data": {
            "text/plain": [
              "Text(0, 0.5, 'Amplitudine')"
            ]
          },
          "metadata": {},
          "execution_count": 73
        },
        {
          "output_type": "display_data",
          "data": {
            "text/plain": [
              "<Figure size 432x288 with 1 Axes>"
            ],
            "image/png": "[encoded data removed]"
          },
          "metadata": {
            "needs_background": "light"
          }
        }
      ]
    },
    {
      "cell_type": "code",
      "source": [
        "n = np.arange(-5,11)\n",
        "l=np.size(n)\n",
        "imp = np.zeros(l)\n",
        "ind = np.where(n>1)\n",
        "imp[ind] = 1\n",
        "plt.stem(n,imp);plt.title('delta[n-2]')\n",
        "plt.xlabel('Index')\n",
        "plt.ylabel('Amplitudine')"
      ],
      "metadata": {
        "colab": {
          "base_uri": "https://localhost:8080/",
          "height": 367
        },
        "id": "78k-nHP-2imB",
        "outputId": "803bc240-0fbb-4f78-f979-5d782e760d4f"
      },
      "execution_count": 74,
      "outputs": [
        {
          "output_type": "stream",
          "name": "stderr",
          "text": [
            "/usr/local/lib/python3.7/dist-packages/ipykernel_launcher.py:6: UserWarning: In Matplotlib 3.3 individual lines on a stem plot will be added as a LineCollection instead of individual lines. This significantly improves the performance of a stem plot. To remove this warning and switch to the new behaviour, set the \"use_line_collection\" keyword argument to True.\n",
            "  \n"
          ]
        },
        {
          "output_type": "execute_result",
          "data": {
            "text/plain": [
              "Text(0, 0.5, 'Amplitudine')"
            ]
          },
          "metadata": {},
          "execution_count": 74
        },
        {
          "output_type": "display_data",
          "data": {
            "text/plain": [
              "<Figure size 432x288 with 1 Axes>"
            ],
            "image/png": "[encoded data removed]"
          },
          "metadata": {
            "needs_background": "light"
          }
        }
      ]
    },
    {
      "cell_type": "markdown",
      "source": [
        "**3.5 Exercițiul 5 - semnalul rampă**\n",
        "\\begin{align}\n",
        "        \\text{r}(t) = \\left\\{\n",
        "        \\begin{array}{cl}\n",
        "        t, & t \\geq 0 \\\\\n",
        "        0, & in \\ rest\n",
        "        \\end{array}\\tag{10}\n",
        "        \\right.\n",
        "    \\end{align}      \n",
        "\n",
        "  \\begin{align}\n",
        "        \\text{n}(t) = \\left\\{\n",
        "        \\begin{array}{cl}\n",
        "        n, & n\\in N \\\\\n",
        "        0, & in \\ rest\n",
        "        \\end{array}\\tag{11}\n",
        "        \\right.\n",
        "    \\end{align}\n",
        "\n",
        "<font color='red'>Să se implementeze în Matlab semnalul rampă (r[n]) pentru pentru n=0,1…19,20</font>\n",
        "\n",
        "**Observație!**\n",
        "\n",
        "Se initializează un vector cu valori zero (funcția Matlab zeros) pentru că ne dorim să\n",
        "plece de la zero, iar k va reprezenta punctul din care rampa va începe să crească.      "
      ],
      "metadata": {
        "id": "ZFH2JFJG2uZ2"
      }
    },
    {
      "cell_type": "code",
      "source": [
        "n = range(0, 21, 1)\n",
        "y = []\n",
        "for i in range(len(n)):\n",
        "    temp = (n[i] if int(n[i])>=0 else 0)\n",
        "    y.append(temp)\n",
        "plt.stem(n, y),plt.title('r[n]')\n",
        "plt.axis()\n",
        "plt.xlabel('Index')\n",
        "plt.ylabel('Amplitude')\n",
        "plt.grid(True)"
      ],
      "metadata": {
        "colab": {
          "base_uri": "https://localhost:8080/",
          "height": 350
        },
        "id": "fjoMIHXq69gK",
        "outputId": "3a0d5d5b-f910-4b6d-fea5-9dd0a3fa43e4"
      },
      "execution_count": 56,
      "outputs": [
        {
          "output_type": "stream",
          "name": "stderr",
          "text": [
            "/usr/local/lib/python3.7/dist-packages/ipykernel_launcher.py:6: UserWarning: In Matplotlib 3.3 individual lines on a stem plot will be added as a LineCollection instead of individual lines. This significantly improves the performance of a stem plot. To remove this warning and switch to the new behaviour, set the \"use_line_collection\" keyword argument to True.\n",
            "  \n"
          ]
        },
        {
          "output_type": "display_data",
          "data": {
            "text/plain": [
              "<Figure size 432x288 with 1 Axes>"
            ],
            "image/png": "[encoded data removed]"
          },
          "metadata": {
            "needs_background": "light"
          }
        }
      ]
    },
    {
      "cell_type": "markdown",
      "source": [
        "**3.6 Exercițiul 6 – impuls rectangular (semnal poartă)**\n",
        "\\begin{align}\n",
        "        \\text{s}(t) = \\left\\{\n",
        "        \\begin{array}{cl}\n",
        "        1, & t \\in [-T,T] \\\\\n",
        "        0, & in \\:\\: rest\n",
        "        \\end{array}\\tag{12}\n",
        "        \\right.\n",
        "    \\end{align}      \n",
        "\n",
        "  \\begin{align}\n",
        "        \\text{n}(t) = \\left\\{\n",
        "        \\begin{array}{cl}\n",
        "        n, & n\\in [-N,N] \\\\\n",
        "        0, & in \\:\\: rest\n",
        "        \\end{array}\\tag{13}\n",
        "        \\right.\n",
        "    \\end{align}\n",
        "\n",
        "<font color='red'>Să se genereze în Matlab semnalul poartă (s[n]), pentru n=-10:10 și N=2.</font><br>\n",
        "<font color='red'>\n",
        "Să se genereze în Matlab semnalul s[n-4].</font>\n"
      ],
      "metadata": {
        "id": "B7C8oFwl9Lkp"
      }
    },
    {
      "cell_type": "code",
      "source": [
        "n = np.arange(-10,11)\n",
        "l=np.size(n)\n",
        "N=2\n",
        "print(-N)\n",
        "imp = np.zeros(l)\n",
        "ind = [((n >= -N) & (n <= N))]\n",
        "imp[ind] = 1\n",
        "plt.stem(n,imp);plt.title('delta[n]')\n",
        "plt.xlabel('Index')\n",
        "plt.ylabel('Amplitudine')"
      ],
      "metadata": {
        "colab": {
          "base_uri": "https://localhost:8080/",
          "height": 419
        },
        "id": "ihkEPFHB9yOl",
        "outputId": "9110f201-6631-43e0-e8b5-141db0629bcf"
      },
      "execution_count": 92,
      "outputs": [
        {
          "output_type": "stream",
          "name": "stdout",
          "text": [
            "-2\n"
          ]
        },
        {
          "output_type": "stream",
          "name": "stderr",
          "text": [
            "/usr/local/lib/python3.7/dist-packages/ipykernel_launcher.py:7: FutureWarning: Using a non-tuple sequence for multidimensional indexing is deprecated; use `arr[tuple(seq)]` instead of `arr[seq]`. In the future this will be interpreted as an array index, `arr[np.array(seq)]`, which will result either in an error or a different result.\n",
            "  import sys\n",
            "/usr/local/lib/python3.7/dist-packages/ipykernel_launcher.py:8: UserWarning: In Matplotlib 3.3 individual lines on a stem plot will be added as a LineCollection instead of individual lines. This significantly improves the performance of a stem plot. To remove this warning and switch to the new behaviour, set the \"use_line_collection\" keyword argument to True.\n",
            "  \n"
          ]
        },
        {
          "output_type": "execute_result",
          "data": {
            "text/plain": [
              "Text(0, 0.5, 'Amplitudine')"
            ]
          },
          "metadata": {},
          "execution_count": 92
        },
        {
          "output_type": "display_data",
          "data": {
            "text/plain": [
              "<Figure size 432x288 with 1 Axes>"
            ],
            "image/png": "[encoded data removed]"
          },
          "metadata": {
            "needs_background": "light"
          }
        }
      ]
    },
    {
      "cell_type": "code",
      "source": [
        "n = np.arange(-10,11)\n",
        "l=np.size(n)\n",
        "N=2\n",
        "print(-N)\n",
        "imp = np.zeros(l)\n",
        "ind = [((n >= -N+4) & (n <= N+4))]\n",
        "imp[ind] = 1\n",
        "plt.stem(n,imp);plt.title('delta[n]')\n",
        "plt.xlabel('Index')\n",
        "plt.ylabel('Amplitudine')"
      ],
      "metadata": {
        "colab": {
          "base_uri": "https://localhost:8080/",
          "height": 419
        },
        "id": "QmRzRmHGE7v9",
        "outputId": "f206e707-eedd-48f1-88df-300126070e5b"
      },
      "execution_count": 94,
      "outputs": [
        {
          "output_type": "stream",
          "name": "stdout",
          "text": [
            "-2\n"
          ]
        },
        {
          "output_type": "stream",
          "name": "stderr",
          "text": [
            "/usr/local/lib/python3.7/dist-packages/ipykernel_launcher.py:7: FutureWarning: Using a non-tuple sequence for multidimensional indexing is deprecated; use `arr[tuple(seq)]` instead of `arr[seq]`. In the future this will be interpreted as an array index, `arr[np.array(seq)]`, which will result either in an error or a different result.\n",
            "  import sys\n",
            "/usr/local/lib/python3.7/dist-packages/ipykernel_launcher.py:8: UserWarning: In Matplotlib 3.3 individual lines on a stem plot will be added as a LineCollection instead of individual lines. This significantly improves the performance of a stem plot. To remove this warning and switch to the new behaviour, set the \"use_line_collection\" keyword argument to True.\n",
            "  \n"
          ]
        },
        {
          "output_type": "execute_result",
          "data": {
            "text/plain": [
              "Text(0, 0.5, 'Amplitudine')"
            ]
          },
          "metadata": {},
          "execution_count": 94
        },
        {
          "output_type": "display_data",
          "data": {
            "text/plain": [
              "<Figure size 432x288 with 1 Axes>"
            ],
            "image/png": "[encoded data removed]"
          },
          "metadata": {
            "needs_background": "light"
          }
        }
      ]
    },
    {
      "cell_type": "markdown",
      "source": [
        "**3.7 Exercițiul 7 - semnal sinus cardinal**\n",
        "\n",
        "\\begin{equation}\\\n",
        "        \\text{s}(t) = sinc(x)=\\frac{sin(x)}{x}\\tag{14}\n",
        "    \\end{equation}      \n",
        "\n",
        "\\begin{align}\n",
        "        \\text{s}(n) = sinc(n)=\\frac{sin(n)}{x}\\tag{15}\n",
        "    \\end{align}  \n",
        "   \n",
        "<font color='red'>Să se genereze în Matlab semnalul sinus cardinal (s[n]), pentru n=-5:0.1:5.</font>"
      ],
      "metadata": {
        "id": "0xGt4EM_MMGd"
      }
    },
    {
      "cell_type": "code",
      "source": [
        "\n",
        "x = np.linspace(-5, 5, 100)\n",
        "np.sinc(x)\n",
        "plt.stem(x, np.sinc(x))"
      ],
      "metadata": {
        "colab": {
          "base_uri": "https://localhost:8080/",
          "height": 235
        },
        "id": "nbgTrvFSQR_q",
        "outputId": "6a46498d-7e24-47a2-f1c6-1aac79b40607"
      },
      "execution_count": 109,
      "outputs": [
        {
          "output_type": "error",
          "ename": "TypeError",
          "evalue": "ignored",
          "traceback": [
            "\u001b[0;31m---------------------------------------------------------------------------\u001b[0m",
            "\u001b[0;31mTypeError\u001b[0m                                 Traceback (most recent call last)",
            "\u001b[0;32m<ipython-input-109-929da85dbdb0>\u001b[0m in \u001b[0;36m<module>\u001b[0;34m()\u001b[0m\n\u001b[0;32m----> 1\u001b[0;31m \u001b[0my\u001b[0m\u001b[0;34m=\u001b[0m\u001b[0mrange\u001b[0m\u001b[0;34m(\u001b[0m\u001b[0;34m-\u001b[0m\u001b[0;36m5\u001b[0m\u001b[0;34m,\u001b[0m\u001b[0;36m5\u001b[0m\u001b[0;34m,\u001b[0m\u001b[0;36m0.1\u001b[0m\u001b[0;34m)\u001b[0m\u001b[0;34m\u001b[0m\u001b[0;34m\u001b[0m\u001b[0m\n\u001b[0m\u001b[1;32m      2\u001b[0m \u001b[0mprint\u001b[0m\u001b[0;34m(\u001b[0m\u001b[0my\u001b[0m\u001b[0;34m)\u001b[0m\u001b[0;34m\u001b[0m\u001b[0;34m\u001b[0m\u001b[0m\n\u001b[1;32m      3\u001b[0m \u001b[0mx\u001b[0m \u001b[0;34m=\u001b[0m \u001b[0mnp\u001b[0m\u001b[0;34m.\u001b[0m\u001b[0mlinspace\u001b[0m\u001b[0;34m(\u001b[0m\u001b[0;34m-\u001b[0m\u001b[0;36m5\u001b[0m\u001b[0;34m,\u001b[0m \u001b[0;36m5\u001b[0m\u001b[0;34m,\u001b[0m \u001b[0;36m100\u001b[0m\u001b[0;34m)\u001b[0m\u001b[0;34m\u001b[0m\u001b[0;34m\u001b[0m\u001b[0m\n\u001b[1;32m      4\u001b[0m \u001b[0mnp\u001b[0m\u001b[0;34m.\u001b[0m\u001b[0msinc\u001b[0m\u001b[0;34m(\u001b[0m\u001b[0mx\u001b[0m\u001b[0;34m)\u001b[0m\u001b[0;34m\u001b[0m\u001b[0;34m\u001b[0m\u001b[0m\n\u001b[1;32m      5\u001b[0m \u001b[0mplt\u001b[0m\u001b[0;34m.\u001b[0m\u001b[0mstem\u001b[0m\u001b[0;34m(\u001b[0m\u001b[0mx\u001b[0m\u001b[0;34m,\u001b[0m \u001b[0mnp\u001b[0m\u001b[0;34m.\u001b[0m\u001b[0msinc\u001b[0m\u001b[0;34m(\u001b[0m\u001b[0mx\u001b[0m\u001b[0;34m)\u001b[0m\u001b[0;34m)\u001b[0m\u001b[0;34m\u001b[0m\u001b[0;34m\u001b[0m\u001b[0m\n",
            "\u001b[0;31mTypeError\u001b[0m: 'float' object cannot be interpreted as an integer"
          ]
        }
      ]
    }
  ]
}